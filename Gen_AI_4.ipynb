{
  "nbformat": 4,
  "nbformat_minor": 0,
  "metadata": {
    "colab": {
      "provenance": [],
      "authorship_tag": "ABX9TyPJ30n46yYHrX9rDXrpP/jc",
      "include_colab_link": true
    },
    "kernelspec": {
      "name": "python3",
      "display_name": "Python 3"
    },
    "language_info": {
      "name": "python"
    }
  },
  "cells": [
    {
      "cell_type": "markdown",
      "metadata": {
        "id": "view-in-github",
        "colab_type": "text"
      },
      "source": [
        "<a href=\"https://colab.research.google.com/github/Nitesh0112/Genrative_AI_2303A52098/blob/main/Gen_AI_4.ipynb\" target=\"_parent\"><img src=\"https://colab.research.google.com/assets/colab-badge.svg\" alt=\"Open In Colab\"/></a>"
      ]
    },
    {
      "cell_type": "code",
      "source": [
        "#Question:-01"
      ],
      "metadata": {
        "id": "9iNCES2LreI9"
      },
      "execution_count": null,
      "outputs": []
    },
    {
      "cell_type": "code",
      "execution_count": 37,
      "metadata": {
        "id": "eu9zSLbtlh5z"
      },
      "outputs": [],
      "source": [
        "import numpy as np\n",
        "X_train = np.array([[0.1, 0.2, 0.3],\n",
        "                   [0.2, 0.3, 0.4],\n",
        "                   [0.3, 0.4, 0.5],\n",
        "                   [0.5, 0.6, 0.7],\n",
        "                   [0.1, 0.3, 0.5],\n",
        "                   [0.2, 0.4, 0.6],\n",
        "                   [0.3, 0.5, 0.7],\n",
        "                   [0.4, 0.6, 0.8],\n",
        "                   [0.5, 0.7, 0.1]])\n",
        "y_train = np.array([0.14, 0.20, 0.26, 0.38, 0.22, 0.28, 0.34, 0.40, 0.22])"
      ]
    },
    {
      "cell_type": "code",
      "source": [
        "W = np.random.rand(3)\n",
        "b = np.random.rand(1)\n",
        "learning_rate = 0.01\n",
        "epochs = 1000\n"
      ],
      "metadata": {
        "id": "h1maCeQdpYE5"
      },
      "execution_count": 38,
      "outputs": []
    },
    {
      "cell_type": "code",
      "source": [
        "for epoch in range(epochs):\n",
        "    for i in range(len(X_train)):\n",
        "        y_pred = np.dot(X_train[i], W) + b\n",
        "        error = y_train[i] - y_pred\n",
        "        W = W + learning_rate * error * X_train[i]\n",
        "        b = b + learning_rate * error"
      ],
      "metadata": {
        "id": "8cY9N3empj1t"
      },
      "execution_count": 39,
      "outputs": []
    },
    {
      "cell_type": "code",
      "source": [
        "#Mean squared Error Calculation\n",
        "X_test = np.array([[0.6, 0.7, 0.8],\n",
        "                  [0.7, 0.8, 0.9]])\n",
        "y_test = np.array([0.44, 0.50])\n",
        "y_train_pred = np.dot(X_train, W) + b\n",
        "y_test_pred = np.dot(X_test, W) + b"
      ],
      "metadata": {
        "id": "vn6kC2PZqBVH"
      },
      "execution_count": 40,
      "outputs": []
    },
    {
      "cell_type": "code",
      "source": [
        "mse_train = np.mean((y_train - y_train_pred)**2)\n",
        "mse_test = np.mean((y_test - y_test_pred)**2)\n",
        "\n",
        "print(\"Mean Squared Error (Training):\", mse_train)\n",
        "print(\"Mean Squared Error (Test):\", mse_test)"
      ],
      "metadata": {
        "colab": {
          "base_uri": "https://localhost:8080/"
        },
        "id": "qSlEOchiqZAJ",
        "outputId": "ee606971-fa9d-45e1-e105-307057ae6f9b"
      },
      "execution_count": 41,
      "outputs": [
        {
          "output_type": "stream",
          "name": "stdout",
          "text": [
            "Mean Squared Error (Training): 1.7248137619327878e-05\n",
            "Mean Squared Error (Test): 0.0001547378850909356\n"
          ]
        }
      ]
    },
    {
      "cell_type": "code",
      "source": [
        "x1 = float(input(\"Enter x1: \"))\n",
        "x2 = float(input(\"Enter x2: \"))\n",
        "x3 = float(input(\"Enter x3: \"))"
      ],
      "metadata": {
        "colab": {
          "base_uri": "https://localhost:8080/"
        },
        "id": "AbZuCcIbq6WA",
        "outputId": "7c82872b-fd5a-4860-e5ec-8b8971309082"
      },
      "execution_count": 42,
      "outputs": [
        {
          "name": "stdout",
          "output_type": "stream",
          "text": [
            "Enter x1: 0.6\n",
            "Enter x2: 0.7\n",
            "Enter x3: 0.8\n"
          ]
        }
      ]
    },
    {
      "cell_type": "code",
      "source": [
        "user_input = np.array([x1, x2, x3])\n",
        "prediction = np.dot(user_input, W) + b\n",
        "\n",
        "print(\"Prediction:\", prediction)"
      ],
      "metadata": {
        "colab": {
          "base_uri": "https://localhost:8080/"
        },
        "id": "qU-BwqHArEZQ",
        "outputId": "b9bd435a-c37e-4fbd-c3a0-7363025ff9a0"
      },
      "execution_count": 43,
      "outputs": [
        {
          "output_type": "stream",
          "name": "stdout",
          "text": [
            "Prediction: [0.45090057]\n"
          ]
        }
      ]
    },
    {
      "cell_type": "code",
      "source": [
        "#QUESTION:-02"
      ],
      "metadata": {
        "id": "TQqJ0OKJrlGO"
      },
      "execution_count": 44,
      "outputs": []
    },
    {
      "cell_type": "code",
      "source": [
        "import numpy as np\n",
        "def sigmoid(x):\n",
        "  return 1 / (1 + np.exp(-x))"
      ],
      "metadata": {
        "id": "a8PoybJzroze"
      },
      "execution_count": 45,
      "outputs": []
    },
    {
      "cell_type": "code",
      "source": [
        "X_train = np.array([[0.1, 0.2, 0.3],\n",
        "                   [0.2, 0.3, 0.4],\n",
        "                   [0.3, 0.4, 0.5],\n",
        "                   [0.5, 0.6, 0.7],\n",
        "                   [0.1, 0.3, 0.5],\n",
        "                   [0.2, 0.4, 0.6],\n",
        "                   [0.3, 0.5, 0.7],\n",
        "                   [0.4, 0.6, 0.8],\n",
        "                   [0.5, 0.7, 0.1]])\n",
        "y_train = np.array([0.5349, 0.5498, 0.5646, 0.5939, 0.5548, 0.5695, 0.5842, 0.5987, 0.5548])"
      ],
      "metadata": {
        "id": "OLSSqJw-rvpR"
      },
      "execution_count": 46,
      "outputs": []
    },
    {
      "cell_type": "code",
      "source": [
        "X_test = np.array([[0.6, 0.7, 0.8],\n",
        "                  [0.7, 0.8, 0.9]])\n",
        "y_test = np.array([0.6083, 0.6225])\n"
      ],
      "metadata": {
        "id": "1bZwLElVr2Xl"
      },
      "execution_count": 47,
      "outputs": []
    },
    {
      "cell_type": "code",
      "source": [
        "W = np.random.rand(3)\n",
        "b = np.random.rand(1)\n",
        "learning_rate = 0.1\n",
        "epochs = 1000"
      ],
      "metadata": {
        "id": "l44Ibo7Fr7xW"
      },
      "execution_count": 48,
      "outputs": []
    },
    {
      "cell_type": "code",
      "source": [
        "for epoch in range(epochs):\n",
        "  for i in range(len(X_train)):\n",
        "    z = np.dot(X_train[i], W) + b\n",
        "    y_pred = sigmoid(z)\n",
        "    error = y_train[i] - y_pred\n",
        "    d_sigmoid = y_pred * (1 - y_pred)\n",
        "    delta = error * d_sigmoid\n",
        "    W += learning_rate * delta * X_train[i]\n",
        "    b += learning_rate * delta"
      ],
      "metadata": {
        "id": "VUIZpw5fr-Ff"
      },
      "execution_count": 49,
      "outputs": []
    },
    {
      "cell_type": "code",
      "source": [
        "y_train_pred = sigmoid(np.dot(X_train, W) + b)\n",
        "y_test_pred = sigmoid(np.dot(X_test, W) + b)\n",
        "\n",
        "mse_train = np.mean((y_train - y_train_pred)**2)\n",
        "mse_test = np.mean((y_test - y_test_pred)**2)\n",
        "\n",
        "print(\"Mean Squared Error (Training):\", mse_train)\n",
        "print(\"Mean Squared Error (Test):\", mse_test)"
      ],
      "metadata": {
        "colab": {
          "base_uri": "https://localhost:8080/"
        },
        "id": "OniH6t_ssIeY",
        "outputId": "e57f6475-7dfd-4012-ae49-c82d6aa62365"
      },
      "execution_count": 50,
      "outputs": [
        {
          "output_type": "stream",
          "name": "stdout",
          "text": [
            "Mean Squared Error (Training): 3.139483831503271e-05\n",
            "Mean Squared Error (Test): 0.00018010041673747102\n"
          ]
        }
      ]
    },
    {
      "cell_type": "code",
      "source": [
        "x1 = float(input(\"Enter x1: \"))\n",
        "x2 = float(input(\"Enter x2: \"))\n",
        "x3 = float(input(\"Enter x3: \"))"
      ],
      "metadata": {
        "colab": {
          "base_uri": "https://localhost:8080/"
        },
        "id": "JprYr1opsKva",
        "outputId": "300d9ad4-67cb-498f-fabb-9b8538818926"
      },
      "execution_count": 51,
      "outputs": [
        {
          "name": "stdout",
          "output_type": "stream",
          "text": [
            "Enter x1: 0.6\n",
            "Enter x2: 0.7\n",
            "Enter x3: 0.8\n"
          ]
        }
      ]
    },
    {
      "cell_type": "code",
      "source": [
        "user_input = np.array([x1, x2, x3])\n",
        "prediction = sigmoid(np.dot(user_input, W) + b)\n",
        "\n",
        "print(\"Prediction:\", prediction)"
      ],
      "metadata": {
        "colab": {
          "base_uri": "https://localhost:8080/"
        },
        "id": "S1DJLcwlsUkT",
        "outputId": "1b1f0e32-4e19-4063-fd23-e04e99c48a02"
      },
      "execution_count": 52,
      "outputs": [
        {
          "output_type": "stream",
          "name": "stdout",
          "text": [
            "Prediction: [0.62004172]\n"
          ]
        }
      ]
    }
  ]
}