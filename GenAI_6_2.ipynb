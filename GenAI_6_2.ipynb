{
  "nbformat": 4,
  "nbformat_minor": 0,
  "metadata": {
    "colab": {
      "provenance": [],
      "authorship_tag": "ABX9TyP9702EuqWWsOllQWYnbAie",
      "include_colab_link": true
    },
    "kernelspec": {
      "name": "python3",
      "display_name": "Python 3"
    },
    "language_info": {
      "name": "python"
    }
  },
  "cells": [
    {
      "cell_type": "markdown",
      "metadata": {
        "id": "view-in-github",
        "colab_type": "text"
      },
      "source": [
        "<a href=\"https://colab.research.google.com/github/Nitesh0112/Genrative_AI_2303A52098/blob/main/GenAI_6_2.ipynb\" target=\"_parent\"><img src=\"https://colab.research.google.com/assets/colab-badge.svg\" alt=\"Open In Colab\"/></a>"
      ]
    },
    {
      "cell_type": "code",
      "execution_count": 16,
      "metadata": {
        "id": "cHvNqOwxHevq"
      },
      "outputs": [],
      "source": [
        "import pandas as pd\n",
        "from sklearn.model_selection import train_test_split\n",
        "from sklearn.preprocessing import StandardScaler\n",
        "from sklearn.preprocessing import OneHotEncoder\n",
        "data = pd.read_csv('/content/Housing.csv')\n",
        "categorical_features = data.select_dtypes(include=['object']).columns\n",
        "\n",
        "encoder = OneHotEncoder(sparse_output=False, handle_unknown='ignore')\n",
        "encoded_data = encoder.fit_transform(data[categorical_features])\n",
        "\n",
        "encoded_df = pd.DataFrame(encoded_data, columns=encoder.get_feature_names_out(categorical_features))\n",
        "data = data.drop(columns=categorical_features)\n",
        "data = pd.concat([data, encoded_df], axis=1)\n",
        "X = data.drop(columns=['price'])\n",
        "y = data['price']\n",
        "scaler = StandardScaler()\n",
        "X_scaled = scaler.fit_transform(X)\n",
        "X_train, X_test, y_train, y_test = train_test_split(X_scaled, y, test_size=0.2, random_state=42)"
      ]
    },
    {
      "cell_type": "code",
      "source": [
        "from tensorflow.keras.models import Sequential\n",
        "from tensorflow.keras.layers import Dense\n",
        "model = Sequential()\n",
        "model.add(Dense(15, input_dim=X_train.shape[1], activation='relu'))\n",
        "\n",
        "model.add(Dense(20, activation='relu'))\n",
        "model.add(Dense(25, activation='relu'))\n",
        "model.add(Dense(20, activation='relu'))\n",
        "model.add(Dense(15, activation='relu'))\n",
        "model.add(Dense(1, activation='linear'))\n",
        "\n",
        "model.compile(optimizer='adam', loss='mean_squared_error', metrics=['mae'])\n",
        "model.summary()\n"
      ],
      "metadata": {
        "colab": {
          "base_uri": "https://localhost:8080/",
          "height": 376
        },
        "id": "Ki6Mtz8rH8Up",
        "outputId": "7bc7dc5d-ef9d-44a3-ecfb-01d197d6e907"
      },
      "execution_count": 17,
      "outputs": [
        {
          "output_type": "stream",
          "name": "stderr",
          "text": [
            "/usr/local/lib/python3.11/dist-packages/keras/src/layers/core/dense.py:87: UserWarning: Do not pass an `input_shape`/`input_dim` argument to a layer. When using Sequential models, prefer using an `Input(shape)` object as the first layer in the model instead.\n",
            "  super().__init__(activity_regularizer=activity_regularizer, **kwargs)\n"
          ]
        },
        {
          "output_type": "display_data",
          "data": {
            "text/plain": [
              "\u001b[1mModel: \"sequential_2\"\u001b[0m\n"
            ],
            "text/html": [
              "<pre style=\"white-space:pre;overflow-x:auto;line-height:normal;font-family:Menlo,'DejaVu Sans Mono',consolas,'Courier New',monospace\"><span style=\"font-weight: bold\">Model: \"sequential_2\"</span>\n",
              "</pre>\n"
            ]
          },
          "metadata": {}
        },
        {
          "output_type": "display_data",
          "data": {
            "text/plain": [
              "┏━━━━━━━━━━━━━━━━━━━━━━━━━━━━━━━━━━━━━━┳━━━━━━━━━━━━━━━━━━━━━━━━━━━━━┳━━━━━━━━━━━━━━━━━┓\n",
              "┃\u001b[1m \u001b[0m\u001b[1mLayer (type)                        \u001b[0m\u001b[1m \u001b[0m┃\u001b[1m \u001b[0m\u001b[1mOutput Shape               \u001b[0m\u001b[1m \u001b[0m┃\u001b[1m \u001b[0m\u001b[1m        Param #\u001b[0m\u001b[1m \u001b[0m┃\n",
              "┡━━━━━━━━━━━━━━━━━━━━━━━━━━━━━━━━━━━━━━╇━━━━━━━━━━━━━━━━━━━━━━━━━━━━━╇━━━━━━━━━━━━━━━━━┩\n",
              "│ dense_12 (\u001b[38;5;33mDense\u001b[0m)                     │ (\u001b[38;5;45mNone\u001b[0m, \u001b[38;5;34m15\u001b[0m)                  │             \u001b[38;5;34m315\u001b[0m │\n",
              "├──────────────────────────────────────┼─────────────────────────────┼─────────────────┤\n",
              "│ dense_13 (\u001b[38;5;33mDense\u001b[0m)                     │ (\u001b[38;5;45mNone\u001b[0m, \u001b[38;5;34m20\u001b[0m)                  │             \u001b[38;5;34m320\u001b[0m │\n",
              "├──────────────────────────────────────┼─────────────────────────────┼─────────────────┤\n",
              "│ dense_14 (\u001b[38;5;33mDense\u001b[0m)                     │ (\u001b[38;5;45mNone\u001b[0m, \u001b[38;5;34m25\u001b[0m)                  │             \u001b[38;5;34m525\u001b[0m │\n",
              "├──────────────────────────────────────┼─────────────────────────────┼─────────────────┤\n",
              "│ dense_15 (\u001b[38;5;33mDense\u001b[0m)                     │ (\u001b[38;5;45mNone\u001b[0m, \u001b[38;5;34m20\u001b[0m)                  │             \u001b[38;5;34m520\u001b[0m │\n",
              "├──────────────────────────────────────┼─────────────────────────────┼─────────────────┤\n",
              "│ dense_16 (\u001b[38;5;33mDense\u001b[0m)                     │ (\u001b[38;5;45mNone\u001b[0m, \u001b[38;5;34m15\u001b[0m)                  │             \u001b[38;5;34m315\u001b[0m │\n",
              "├──────────────────────────────────────┼─────────────────────────────┼─────────────────┤\n",
              "│ dense_17 (\u001b[38;5;33mDense\u001b[0m)                     │ (\u001b[38;5;45mNone\u001b[0m, \u001b[38;5;34m1\u001b[0m)                   │              \u001b[38;5;34m16\u001b[0m │\n",
              "└──────────────────────────────────────┴─────────────────────────────┴─────────────────┘\n"
            ],
            "text/html": [
              "<pre style=\"white-space:pre;overflow-x:auto;line-height:normal;font-family:Menlo,'DejaVu Sans Mono',consolas,'Courier New',monospace\">┏━━━━━━━━━━━━━━━━━━━━━━━━━━━━━━━━━━━━━━┳━━━━━━━━━━━━━━━━━━━━━━━━━━━━━┳━━━━━━━━━━━━━━━━━┓\n",
              "┃<span style=\"font-weight: bold\"> Layer (type)                         </span>┃<span style=\"font-weight: bold\"> Output Shape                </span>┃<span style=\"font-weight: bold\">         Param # </span>┃\n",
              "┡━━━━━━━━━━━━━━━━━━━━━━━━━━━━━━━━━━━━━━╇━━━━━━━━━━━━━━━━━━━━━━━━━━━━━╇━━━━━━━━━━━━━━━━━┩\n",
              "│ dense_12 (<span style=\"color: #0087ff; text-decoration-color: #0087ff\">Dense</span>)                     │ (<span style=\"color: #00d7ff; text-decoration-color: #00d7ff\">None</span>, <span style=\"color: #00af00; text-decoration-color: #00af00\">15</span>)                  │             <span style=\"color: #00af00; text-decoration-color: #00af00\">315</span> │\n",
              "├──────────────────────────────────────┼─────────────────────────────┼─────────────────┤\n",
              "│ dense_13 (<span style=\"color: #0087ff; text-decoration-color: #0087ff\">Dense</span>)                     │ (<span style=\"color: #00d7ff; text-decoration-color: #00d7ff\">None</span>, <span style=\"color: #00af00; text-decoration-color: #00af00\">20</span>)                  │             <span style=\"color: #00af00; text-decoration-color: #00af00\">320</span> │\n",
              "├──────────────────────────────────────┼─────────────────────────────┼─────────────────┤\n",
              "│ dense_14 (<span style=\"color: #0087ff; text-decoration-color: #0087ff\">Dense</span>)                     │ (<span style=\"color: #00d7ff; text-decoration-color: #00d7ff\">None</span>, <span style=\"color: #00af00; text-decoration-color: #00af00\">25</span>)                  │             <span style=\"color: #00af00; text-decoration-color: #00af00\">525</span> │\n",
              "├──────────────────────────────────────┼─────────────────────────────┼─────────────────┤\n",
              "│ dense_15 (<span style=\"color: #0087ff; text-decoration-color: #0087ff\">Dense</span>)                     │ (<span style=\"color: #00d7ff; text-decoration-color: #00d7ff\">None</span>, <span style=\"color: #00af00; text-decoration-color: #00af00\">20</span>)                  │             <span style=\"color: #00af00; text-decoration-color: #00af00\">520</span> │\n",
              "├──────────────────────────────────────┼─────────────────────────────┼─────────────────┤\n",
              "│ dense_16 (<span style=\"color: #0087ff; text-decoration-color: #0087ff\">Dense</span>)                     │ (<span style=\"color: #00d7ff; text-decoration-color: #00d7ff\">None</span>, <span style=\"color: #00af00; text-decoration-color: #00af00\">15</span>)                  │             <span style=\"color: #00af00; text-decoration-color: #00af00\">315</span> │\n",
              "├──────────────────────────────────────┼─────────────────────────────┼─────────────────┤\n",
              "│ dense_17 (<span style=\"color: #0087ff; text-decoration-color: #0087ff\">Dense</span>)                     │ (<span style=\"color: #00d7ff; text-decoration-color: #00d7ff\">None</span>, <span style=\"color: #00af00; text-decoration-color: #00af00\">1</span>)                   │              <span style=\"color: #00af00; text-decoration-color: #00af00\">16</span> │\n",
              "└──────────────────────────────────────┴─────────────────────────────┴─────────────────┘\n",
              "</pre>\n"
            ]
          },
          "metadata": {}
        },
        {
          "output_type": "display_data",
          "data": {
            "text/plain": [
              "\u001b[1m Total params: \u001b[0m\u001b[38;5;34m2,011\u001b[0m (7.86 KB)\n"
            ],
            "text/html": [
              "<pre style=\"white-space:pre;overflow-x:auto;line-height:normal;font-family:Menlo,'DejaVu Sans Mono',consolas,'Courier New',monospace\"><span style=\"font-weight: bold\"> Total params: </span><span style=\"color: #00af00; text-decoration-color: #00af00\">2,011</span> (7.86 KB)\n",
              "</pre>\n"
            ]
          },
          "metadata": {}
        },
        {
          "output_type": "display_data",
          "data": {
            "text/plain": [
              "\u001b[1m Trainable params: \u001b[0m\u001b[38;5;34m2,011\u001b[0m (7.86 KB)\n"
            ],
            "text/html": [
              "<pre style=\"white-space:pre;overflow-x:auto;line-height:normal;font-family:Menlo,'DejaVu Sans Mono',consolas,'Courier New',monospace\"><span style=\"font-weight: bold\"> Trainable params: </span><span style=\"color: #00af00; text-decoration-color: #00af00\">2,011</span> (7.86 KB)\n",
              "</pre>\n"
            ]
          },
          "metadata": {}
        },
        {
          "output_type": "display_data",
          "data": {
            "text/plain": [
              "\u001b[1m Non-trainable params: \u001b[0m\u001b[38;5;34m0\u001b[0m (0.00 B)\n"
            ],
            "text/html": [
              "<pre style=\"white-space:pre;overflow-x:auto;line-height:normal;font-family:Menlo,'DejaVu Sans Mono',consolas,'Courier New',monospace\"><span style=\"font-weight: bold\"> Non-trainable params: </span><span style=\"color: #00af00; text-decoration-color: #00af00\">0</span> (0.00 B)\n",
              "</pre>\n"
            ]
          },
          "metadata": {}
        }
      ]
    },
    {
      "cell_type": "code",
      "source": [
        "\n",
        "history = model.fit(X_train, y_train, epochs=150, batch_size=32, validation_data=(X_test, y_test))\n"
      ],
      "metadata": {
        "colab": {
          "base_uri": "https://localhost:8080/"
        },
        "id": "r4Tw8dhpIBd6",
        "outputId": "86ed1c61-b10a-4001-effa-e43118f9ef16"
      },
      "execution_count": 18,
      "outputs": [
        {
          "output_type": "stream",
          "name": "stdout",
          "text": [
            "Epoch 1/150\n",
            "\u001b[1m14/14\u001b[0m \u001b[32m━━━━━━━━━━━━━━━━━━━━\u001b[0m\u001b[37m\u001b[0m \u001b[1m3s\u001b[0m 23ms/step - loss: 24298521624576.0000 - mae: 4641584.5000 - val_loss: 30129988304896.0000 - val_mae: 5007536.0000\n",
            "Epoch 2/150\n",
            "\u001b[1m14/14\u001b[0m \u001b[32m━━━━━━━━━━━━━━━━━━━━\u001b[0m\u001b[37m\u001b[0m \u001b[1m0s\u001b[0m 7ms/step - loss: 25150814683136.0000 - mae: 4732582.0000 - val_loss: 30129984110592.0000 - val_mae: 5007536.0000\n",
            "Epoch 3/150\n",
            "\u001b[1m14/14\u001b[0m \u001b[32m━━━━━━━━━━━━━━━━━━━━\u001b[0m\u001b[37m\u001b[0m \u001b[1m0s\u001b[0m 7ms/step - loss: 24648160903168.0000 - mae: 4667797.0000 - val_loss: 30129971527680.0000 - val_mae: 5007534.5000\n",
            "Epoch 4/150\n",
            "\u001b[1m14/14\u001b[0m \u001b[32m━━━━━━━━━━━━━━━━━━━━\u001b[0m\u001b[37m\u001b[0m \u001b[1m0s\u001b[0m 11ms/step - loss: 23881242902528.0000 - mae: 4626049.5000 - val_loss: 30129944264704.0000 - val_mae: 5007532.0000\n",
            "Epoch 5/150\n",
            "\u001b[1m14/14\u001b[0m \u001b[32m━━━━━━━━━━━━━━━━━━━━\u001b[0m\u001b[37m\u001b[0m \u001b[1m0s\u001b[0m 7ms/step - loss: 25052145778688.0000 - mae: 4679500.0000 - val_loss: 30129879252992.0000 - val_mae: 5007525.5000\n",
            "Epoch 6/150\n",
            "\u001b[1m14/14\u001b[0m \u001b[32m━━━━━━━━━━━━━━━━━━━━\u001b[0m\u001b[37m\u001b[0m \u001b[1m0s\u001b[0m 7ms/step - loss: 25493740978176.0000 - mae: 4737714.0000 - val_loss: 30129719869440.0000 - val_mae: 5007510.5000\n",
            "Epoch 7/150\n",
            "\u001b[1m14/14\u001b[0m \u001b[32m━━━━━━━━━━━━━━━━━━━━\u001b[0m\u001b[37m\u001b[0m \u001b[1m0s\u001b[0m 7ms/step - loss: 25342500667392.0000 - mae: 4715033.5000 - val_loss: 30129350770688.0000 - val_mae: 5007475.5000\n",
            "Epoch 8/150\n",
            "\u001b[1m14/14\u001b[0m \u001b[32m━━━━━━━━━━━━━━━━━━━━\u001b[0m\u001b[37m\u001b[0m \u001b[1m0s\u001b[0m 10ms/step - loss: 25643301470208.0000 - mae: 4767315.0000 - val_loss: 30128511909888.0000 - val_mae: 5007397.0000\n",
            "Epoch 9/150\n",
            "\u001b[1m14/14\u001b[0m \u001b[32m━━━━━━━━━━━━━━━━━━━━\u001b[0m\u001b[37m\u001b[0m \u001b[1m0s\u001b[0m 14ms/step - loss: 25787396784128.0000 - mae: 4750639.0000 - val_loss: 30126691581952.0000 - val_mae: 5007231.0000\n",
            "Epoch 10/150\n",
            "\u001b[1m14/14\u001b[0m \u001b[32m━━━━━━━━━━━━━━━━━━━━\u001b[0m\u001b[37m\u001b[0m \u001b[1m0s\u001b[0m 13ms/step - loss: 25500634316800.0000 - mae: 4728734.0000 - val_loss: 30122975428608.0000 - val_mae: 5006892.5000\n",
            "Epoch 11/150\n",
            "\u001b[1m14/14\u001b[0m \u001b[32m━━━━━━━━━━━━━━━━━━━━\u001b[0m\u001b[37m\u001b[0m \u001b[1m0s\u001b[0m 11ms/step - loss: 25074371395584.0000 - mae: 4682090.5000 - val_loss: 30115664756736.0000 - val_mae: 5006238.5000\n",
            "Epoch 12/150\n",
            "\u001b[1m14/14\u001b[0m \u001b[32m━━━━━━━━━━━━━━━━━━━━\u001b[0m\u001b[37m\u001b[0m \u001b[1m0s\u001b[0m 13ms/step - loss: 25125030199296.0000 - mae: 4688685.5000 - val_loss: 30101947285504.0000 - val_mae: 5005021.0000\n",
            "Epoch 13/150\n",
            "\u001b[1m14/14\u001b[0m \u001b[32m━━━━━━━━━━━━━━━━━━━━\u001b[0m\u001b[37m\u001b[0m \u001b[1m0s\u001b[0m 12ms/step - loss: 26404773167104.0000 - mae: 4806978.0000 - val_loss: 30077655973888.0000 - val_mae: 5002888.0000\n",
            "Epoch 14/150\n",
            "\u001b[1m14/14\u001b[0m \u001b[32m━━━━━━━━━━━━━━━━━━━━\u001b[0m\u001b[37m\u001b[0m \u001b[1m0s\u001b[0m 14ms/step - loss: 24366567915520.0000 - mae: 4604840.0000 - val_loss: 30036392411136.0000 - val_mae: 4999297.0000\n",
            "Epoch 15/150\n",
            "\u001b[1m14/14\u001b[0m \u001b[32m━━━━━━━━━━━━━━━━━━━━\u001b[0m\u001b[37m\u001b[0m \u001b[1m0s\u001b[0m 15ms/step - loss: 25541417631744.0000 - mae: 4721921.0000 - val_loss: 29968761356288.0000 - val_mae: 4993475.5000\n",
            "Epoch 16/150\n",
            "\u001b[1m14/14\u001b[0m \u001b[32m━━━━━━━━━━━━━━━━━━━━\u001b[0m\u001b[37m\u001b[0m \u001b[1m0s\u001b[0m 27ms/step - loss: 25540182409216.0000 - mae: 4707652.5000 - val_loss: 29864818114560.0000 - val_mae: 4984555.0000\n",
            "Epoch 17/150\n",
            "\u001b[1m14/14\u001b[0m \u001b[32m━━━━━━━━━━━━━━━━━━━━\u001b[0m\u001b[37m\u001b[0m \u001b[1m0s\u001b[0m 7ms/step - loss: 24103490682880.0000 - mae: 4599261.0000 - val_loss: 29707082924032.0000 - val_mae: 4971072.5000\n",
            "Epoch 18/150\n",
            "\u001b[1m14/14\u001b[0m \u001b[32m━━━━━━━━━━━━━━━━━━━━\u001b[0m\u001b[37m\u001b[0m \u001b[1m0s\u001b[0m 7ms/step - loss: 24734225924096.0000 - mae: 4688578.0000 - val_loss: 29475353919488.0000 - val_mae: 4951344.0000\n",
            "Epoch 19/150\n",
            "\u001b[1m14/14\u001b[0m \u001b[32m━━━━━━━━━━━━━━━━━━━━\u001b[0m\u001b[37m\u001b[0m \u001b[1m0s\u001b[0m 7ms/step - loss: 23482842742784.0000 - mae: 4576214.5000 - val_loss: 29142821109760.0000 - val_mae: 4923097.0000\n",
            "Epoch 20/150\n",
            "\u001b[1m14/14\u001b[0m \u001b[32m━━━━━━━━━━━━━━━━━━━━\u001b[0m\u001b[37m\u001b[0m \u001b[1m0s\u001b[0m 7ms/step - loss: 24927136645120.0000 - mae: 4661234.0000 - val_loss: 28679600078848.0000 - val_mae: 4883623.5000\n",
            "Epoch 21/150\n",
            "\u001b[1m14/14\u001b[0m \u001b[32m━━━━━━━━━━━━━━━━━━━━\u001b[0m\u001b[37m\u001b[0m \u001b[1m0s\u001b[0m 7ms/step - loss: 22984232271872.0000 - mae: 4507821.0000 - val_loss: 28046767685632.0000 - val_mae: 4829457.5000\n",
            "Epoch 22/150\n",
            "\u001b[1m14/14\u001b[0m \u001b[32m━━━━━━━━━━━━━━━━━━━━\u001b[0m\u001b[37m\u001b[0m \u001b[1m0s\u001b[0m 10ms/step - loss: 21491324289024.0000 - mae: 4365623.5000 - val_loss: 27214223507456.0000 - val_mae: 4757364.0000\n",
            "Epoch 23/150\n",
            "\u001b[1m14/14\u001b[0m \u001b[32m━━━━━━━━━━━━━━━━━━━━\u001b[0m\u001b[37m\u001b[0m \u001b[1m0s\u001b[0m 7ms/step - loss: 22135168827392.0000 - mae: 4399311.0000 - val_loss: 26111427739648.0000 - val_mae: 4660644.5000\n",
            "Epoch 24/150\n",
            "\u001b[1m14/14\u001b[0m \u001b[32m━━━━━━━━━━━━━━━━━━━━\u001b[0m\u001b[37m\u001b[0m \u001b[1m0s\u001b[0m 7ms/step - loss: 21297696342016.0000 - mae: 4325870.0000 - val_loss: 24735482118144.0000 - val_mae: 4536586.0000\n",
            "Epoch 25/150\n",
            "\u001b[1m14/14\u001b[0m \u001b[32m━━━━━━━━━━━━━━━━━━━━\u001b[0m\u001b[37m\u001b[0m \u001b[1m0s\u001b[0m 7ms/step - loss: 19085035307008.0000 - mae: 4098488.7500 - val_loss: 23043405512704.0000 - val_mae: 4378852.0000\n",
            "Epoch 26/150\n",
            "\u001b[1m14/14\u001b[0m \u001b[32m━━━━━━━━━━━━━━━━━━━━\u001b[0m\u001b[37m\u001b[0m \u001b[1m0s\u001b[0m 7ms/step - loss: 18371265429504.0000 - mae: 4031515.5000 - val_loss: 21014408855552.0000 - val_mae: 4181231.5000\n",
            "Epoch 27/150\n",
            "\u001b[1m14/14\u001b[0m \u001b[32m━━━━━━━━━━━━━━━━━━━━\u001b[0m\u001b[37m\u001b[0m \u001b[1m0s\u001b[0m 10ms/step - loss: 15848741797888.0000 - mae: 3726645.7500 - val_loss: 18678743564288.0000 - val_mae: 3939050.5000\n",
            "Epoch 28/150\n",
            "\u001b[1m14/14\u001b[0m \u001b[32m━━━━━━━━━━━━━━━━━━━━\u001b[0m\u001b[37m\u001b[0m \u001b[1m0s\u001b[0m 8ms/step - loss: 14752001556480.0000 - mae: 3564098.5000 - val_loss: 16147495780352.0000 - val_mae: 3653748.0000\n",
            "Epoch 29/150\n",
            "\u001b[1m14/14\u001b[0m \u001b[32m━━━━━━━━━━━━━━━━━━━━\u001b[0m\u001b[37m\u001b[0m \u001b[1m0s\u001b[0m 7ms/step - loss: 11394030239744.0000 - mae: 3140796.2500 - val_loss: 13536275202048.0000 - val_mae: 3326781.2500\n",
            "Epoch 30/150\n",
            "\u001b[1m14/14\u001b[0m \u001b[32m━━━━━━━━━━━━━━━━━━━━\u001b[0m\u001b[37m\u001b[0m \u001b[1m0s\u001b[0m 8ms/step - loss: 9946590609408.0000 - mae: 2876654.7500 - val_loss: 10922202497024.0000 - val_mae: 2952096.2500\n",
            "Epoch 31/150\n",
            "\u001b[1m14/14\u001b[0m \u001b[32m━━━━━━━━━━━━━━━━━━━━\u001b[0m\u001b[37m\u001b[0m \u001b[1m0s\u001b[0m 7ms/step - loss: 7344469573632.0000 - mae: 2460238.2500 - val_loss: 8622139506688.0000 - val_mae: 2566587.2500\n",
            "Epoch 32/150\n",
            "\u001b[1m14/14\u001b[0m \u001b[32m━━━━━━━━━━━━━━━━━━━━\u001b[0m\u001b[37m\u001b[0m \u001b[1m0s\u001b[0m 7ms/step - loss: 5880317214720.0000 - mae: 2149033.5000 - val_loss: 6740775010304.0000 - val_mae: 2210996.7500\n",
            "Epoch 33/150\n",
            "\u001b[1m14/14\u001b[0m \u001b[32m━━━━━━━━━━━━━━━━━━━━\u001b[0m\u001b[37m\u001b[0m \u001b[1m0s\u001b[0m 7ms/step - loss: 4702303420416.0000 - mae: 1873314.8750 - val_loss: 5350731284480.0000 - val_mae: 1920799.5000\n",
            "Epoch 34/150\n",
            "\u001b[1m14/14\u001b[0m \u001b[32m━━━━━━━━━━━━━━━━━━━━\u001b[0m\u001b[37m\u001b[0m \u001b[1m0s\u001b[0m 7ms/step - loss: 3695768240128.0000 - mae: 1599730.6250 - val_loss: 4424567619584.0000 - val_mae: 1691784.5000\n",
            "Epoch 35/150\n",
            "\u001b[1m14/14\u001b[0m \u001b[32m━━━━━━━━━━━━━━━━━━━━\u001b[0m\u001b[37m\u001b[0m \u001b[1m0s\u001b[0m 10ms/step - loss: 3022412578816.0000 - mae: 1424492.7500 - val_loss: 3863116775424.0000 - val_mae: 1550544.6250\n",
            "Epoch 36/150\n",
            "\u001b[1m14/14\u001b[0m \u001b[32m━━━━━━━━━━━━━━━━━━━━\u001b[0m\u001b[37m\u001b[0m \u001b[1m0s\u001b[0m 7ms/step - loss: 2606471839744.0000 - mae: 1280076.2500 - val_loss: 3520474382336.0000 - val_mae: 1457202.2500\n",
            "Epoch 37/150\n",
            "\u001b[1m14/14\u001b[0m \u001b[32m━━━━━━━━━━━━━━━━━━━━\u001b[0m\u001b[37m\u001b[0m \u001b[1m0s\u001b[0m 10ms/step - loss: 2575895363584.0000 - mae: 1268262.5000 - val_loss: 3255198023680.0000 - val_mae: 1388236.7500\n",
            "Epoch 38/150\n",
            "\u001b[1m14/14\u001b[0m \u001b[32m━━━━━━━━━━━━━━━━━━━━\u001b[0m\u001b[37m\u001b[0m \u001b[1m0s\u001b[0m 7ms/step - loss: 2174521835520.0000 - mae: 1186680.8750 - val_loss: 3099486846976.0000 - val_mae: 1348138.1250\n",
            "Epoch 39/150\n",
            "\u001b[1m14/14\u001b[0m \u001b[32m━━━━━━━━━━━━━━━━━━━━\u001b[0m\u001b[37m\u001b[0m \u001b[1m0s\u001b[0m 7ms/step - loss: 2011953102848.0000 - mae: 1131860.2500 - val_loss: 2981097111552.0000 - val_mae: 1319491.5000\n",
            "Epoch 40/150\n",
            "\u001b[1m14/14\u001b[0m \u001b[32m━━━━━━━━━━━━━━━━━━━━\u001b[0m\u001b[37m\u001b[0m \u001b[1m0s\u001b[0m 7ms/step - loss: 2107092893696.0000 - mae: 1143769.1250 - val_loss: 2890912759808.0000 - val_mae: 1299042.2500\n",
            "Epoch 41/150\n",
            "\u001b[1m14/14\u001b[0m \u001b[32m━━━━━━━━━━━━━━━━━━━━\u001b[0m\u001b[37m\u001b[0m \u001b[1m0s\u001b[0m 7ms/step - loss: 1902011613184.0000 - mae: 1083544.1250 - val_loss: 2823913209856.0000 - val_mae: 1283404.1250\n",
            "Epoch 42/150\n",
            "\u001b[1m14/14\u001b[0m \u001b[32m━━━━━━━━━━━━━━━━━━━━\u001b[0m\u001b[37m\u001b[0m \u001b[1m0s\u001b[0m 8ms/step - loss: 1908955807744.0000 - mae: 1066340.5000 - val_loss: 2750187307008.0000 - val_mae: 1270358.5000\n",
            "Epoch 43/150\n",
            "\u001b[1m14/14\u001b[0m \u001b[32m━━━━━━━━━━━━━━━━━━━━\u001b[0m\u001b[37m\u001b[0m \u001b[1m0s\u001b[0m 7ms/step - loss: 1883073806336.0000 - mae: 1052213.2500 - val_loss: 2693361303552.0000 - val_mae: 1259004.6250\n",
            "Epoch 44/150\n",
            "\u001b[1m14/14\u001b[0m \u001b[32m━━━━━━━━━━━━━━━━━━━━\u001b[0m\u001b[37m\u001b[0m \u001b[1m0s\u001b[0m 7ms/step - loss: 1811975634944.0000 - mae: 1030478.3750 - val_loss: 2652365914112.0000 - val_mae: 1250709.2500\n",
            "Epoch 45/150\n",
            "\u001b[1m14/14\u001b[0m \u001b[32m━━━━━━━━━━━━━━━━━━━━\u001b[0m\u001b[37m\u001b[0m \u001b[1m0s\u001b[0m 7ms/step - loss: 1642751721472.0000 - mae: 983357.1250 - val_loss: 2611425574912.0000 - val_mae: 1243176.7500\n",
            "Epoch 46/150\n",
            "\u001b[1m14/14\u001b[0m \u001b[32m━━━━━━━━━━━━━━━━━━━━\u001b[0m\u001b[37m\u001b[0m \u001b[1m0s\u001b[0m 7ms/step - loss: 1494311632896.0000 - mae: 940288.6250 - val_loss: 2597622906880.0000 - val_mae: 1240938.1250\n",
            "Epoch 47/150\n",
            "\u001b[1m14/14\u001b[0m \u001b[32m━━━━━━━━━━━━━━━━━━━━\u001b[0m\u001b[37m\u001b[0m \u001b[1m0s\u001b[0m 7ms/step - loss: 1584281026560.0000 - mae: 943910.8750 - val_loss: 2569229303808.0000 - val_mae: 1235757.7500\n",
            "Epoch 48/150\n",
            "\u001b[1m14/14\u001b[0m \u001b[32m━━━━━━━━━━━━━━━━━━━━\u001b[0m\u001b[37m\u001b[0m \u001b[1m0s\u001b[0m 7ms/step - loss: 1476498817024.0000 - mae: 920372.3125 - val_loss: 2551287644160.0000 - val_mae: 1231805.2500\n",
            "Epoch 49/150\n",
            "\u001b[1m14/14\u001b[0m \u001b[32m━━━━━━━━━━━━━━━━━━━━\u001b[0m\u001b[37m\u001b[0m \u001b[1m0s\u001b[0m 7ms/step - loss: 1397962833920.0000 - mae: 898166.0000 - val_loss: 2521343197184.0000 - val_mae: 1226785.7500\n",
            "Epoch 50/150\n",
            "\u001b[1m14/14\u001b[0m \u001b[32m━━━━━━━━━━━━━━━━━━━━\u001b[0m\u001b[37m\u001b[0m \u001b[1m0s\u001b[0m 8ms/step - loss: 1424808476672.0000 - mae: 884689.9375 - val_loss: 2509301350400.0000 - val_mae: 1224680.1250\n",
            "Epoch 51/150\n",
            "\u001b[1m14/14\u001b[0m \u001b[32m━━━━━━━━━━━━━━━━━━━━\u001b[0m\u001b[37m\u001b[0m \u001b[1m0s\u001b[0m 7ms/step - loss: 1549963362304.0000 - mae: 925630.5000 - val_loss: 2496321028096.0000 - val_mae: 1222223.7500\n",
            "Epoch 52/150\n",
            "\u001b[1m14/14\u001b[0m \u001b[32m━━━━━━━━━━━━━━━━━━━━\u001b[0m\u001b[37m\u001b[0m \u001b[1m0s\u001b[0m 13ms/step - loss: 1383877705728.0000 - mae: 871747.0625 - val_loss: 2478395097088.0000 - val_mae: 1218254.2500\n",
            "Epoch 53/150\n",
            "\u001b[1m14/14\u001b[0m \u001b[32m━━━━━━━━━━━━━━━━━━━━\u001b[0m\u001b[37m\u001b[0m \u001b[1m0s\u001b[0m 13ms/step - loss: 1437376970752.0000 - mae: 885423.2500 - val_loss: 2461650124800.0000 - val_mae: 1214030.1250\n",
            "Epoch 54/150\n",
            "\u001b[1m14/14\u001b[0m \u001b[32m━━━━━━━━━━━━━━━━━━━━\u001b[0m\u001b[37m\u001b[0m \u001b[1m0s\u001b[0m 10ms/step - loss: 1333473968128.0000 - mae: 879650.0000 - val_loss: 2452608516096.0000 - val_mae: 1210995.5000\n",
            "Epoch 55/150\n",
            "\u001b[1m14/14\u001b[0m \u001b[32m━━━━━━━━━━━━━━━━━━━━\u001b[0m\u001b[37m\u001b[0m \u001b[1m0s\u001b[0m 13ms/step - loss: 1238028255232.0000 - mae: 835332.8750 - val_loss: 2438762070016.0000 - val_mae: 1207413.2500\n",
            "Epoch 56/150\n",
            "\u001b[1m14/14\u001b[0m \u001b[32m━━━━━━━━━━━━━━━━━━━━\u001b[0m\u001b[37m\u001b[0m \u001b[1m0s\u001b[0m 12ms/step - loss: 1494078586880.0000 - mae: 926483.5000 - val_loss: 2422633660416.0000 - val_mae: 1203255.3750\n",
            "Epoch 57/150\n",
            "\u001b[1m14/14\u001b[0m \u001b[32m━━━━━━━━━━━━━━━━━━━━\u001b[0m\u001b[37m\u001b[0m \u001b[1m0s\u001b[0m 13ms/step - loss: 1339113340928.0000 - mae: 879500.0625 - val_loss: 2403984736256.0000 - val_mae: 1198016.2500\n",
            "Epoch 58/150\n",
            "\u001b[1m14/14\u001b[0m \u001b[32m━━━━━━━━━━━━━━━━━━━━\u001b[0m\u001b[37m\u001b[0m \u001b[1m0s\u001b[0m 15ms/step - loss: 1540541120512.0000 - mae: 910547.5625 - val_loss: 2389422112768.0000 - val_mae: 1193559.1250\n",
            "Epoch 59/150\n",
            "\u001b[1m14/14\u001b[0m \u001b[32m━━━━━━━━━━━━━━━━━━━━\u001b[0m\u001b[37m\u001b[0m \u001b[1m0s\u001b[0m 13ms/step - loss: 1384446689280.0000 - mae: 873831.2500 - val_loss: 2387089293312.0000 - val_mae: 1191183.2500\n",
            "Epoch 60/150\n",
            "\u001b[1m14/14\u001b[0m \u001b[32m━━━━━━━━━━━━━━━━━━━━\u001b[0m\u001b[37m\u001b[0m \u001b[1m0s\u001b[0m 8ms/step - loss: 1465980157952.0000 - mae: 899071.5000 - val_loss: 2379366531072.0000 - val_mae: 1187975.5000\n",
            "Epoch 61/150\n",
            "\u001b[1m14/14\u001b[0m \u001b[32m━━━━━━━━━━━━━━━━━━━━\u001b[0m\u001b[37m\u001b[0m \u001b[1m0s\u001b[0m 7ms/step - loss: 1295686172672.0000 - mae: 872352.0625 - val_loss: 2352700981248.0000 - val_mae: 1181041.7500\n",
            "Epoch 62/150\n",
            "\u001b[1m14/14\u001b[0m \u001b[32m━━━━━━━━━━━━━━━━━━━━\u001b[0m\u001b[37m\u001b[0m \u001b[1m0s\u001b[0m 7ms/step - loss: 1286045827072.0000 - mae: 859491.3125 - val_loss: 2364101099520.0000 - val_mae: 1181397.6250\n",
            "Epoch 63/150\n",
            "\u001b[1m14/14\u001b[0m \u001b[32m━━━━━━━━━━━━━━━━━━━━\u001b[0m\u001b[37m\u001b[0m \u001b[1m0s\u001b[0m 7ms/step - loss: 1067644157952.0000 - mae: 791729.3750 - val_loss: 2349434929152.0000 - val_mae: 1176468.2500\n",
            "Epoch 64/150\n",
            "\u001b[1m14/14\u001b[0m \u001b[32m━━━━━━━━━━━━━━━━━━━━\u001b[0m\u001b[37m\u001b[0m \u001b[1m0s\u001b[0m 8ms/step - loss: 1161169076224.0000 - mae: 821749.0625 - val_loss: 2330880376832.0000 - val_mae: 1171482.6250\n",
            "Epoch 65/150\n",
            "\u001b[1m14/14\u001b[0m \u001b[32m━━━━━━━━━━━━━━━━━━━━\u001b[0m\u001b[37m\u001b[0m \u001b[1m0s\u001b[0m 7ms/step - loss: 1245838835712.0000 - mae: 846418.8125 - val_loss: 2324415643648.0000 - val_mae: 1168214.7500\n",
            "Epoch 66/150\n",
            "\u001b[1m14/14\u001b[0m \u001b[32m━━━━━━━━━━━━━━━━━━━━\u001b[0m\u001b[37m\u001b[0m \u001b[1m0s\u001b[0m 7ms/step - loss: 1271672602624.0000 - mae: 859563.3750 - val_loss: 2293648850944.0000 - val_mae: 1161541.0000\n",
            "Epoch 67/150\n",
            "\u001b[1m14/14\u001b[0m \u001b[32m━━━━━━━━━━━━━━━━━━━━\u001b[0m\u001b[37m\u001b[0m \u001b[1m0s\u001b[0m 11ms/step - loss: 1396991328256.0000 - mae: 893632.8125 - val_loss: 2305866596352.0000 - val_mae: 1161335.2500\n",
            "Epoch 68/150\n",
            "\u001b[1m14/14\u001b[0m \u001b[32m━━━━━━━━━━━━━━━━━━━━\u001b[0m\u001b[37m\u001b[0m \u001b[1m0s\u001b[0m 10ms/step - loss: 1103994683392.0000 - mae: 779659.5000 - val_loss: 2296417353728.0000 - val_mae: 1157790.5000\n",
            "Epoch 69/150\n",
            "\u001b[1m14/14\u001b[0m \u001b[32m━━━━━━━━━━━━━━━━━━━━\u001b[0m\u001b[37m\u001b[0m \u001b[1m0s\u001b[0m 7ms/step - loss: 1129356591104.0000 - mae: 798981.0000 - val_loss: 2285554630656.0000 - val_mae: 1154699.1250\n",
            "Epoch 70/150\n",
            "\u001b[1m14/14\u001b[0m \u001b[32m━━━━━━━━━━━━━━━━━━━━\u001b[0m\u001b[37m\u001b[0m \u001b[1m0s\u001b[0m 8ms/step - loss: 1085005168640.0000 - mae: 777102.3750 - val_loss: 2277102845952.0000 - val_mae: 1151275.1250\n",
            "Epoch 71/150\n",
            "\u001b[1m14/14\u001b[0m \u001b[32m━━━━━━━━━━━━━━━━━━━━\u001b[0m\u001b[37m\u001b[0m \u001b[1m0s\u001b[0m 10ms/step - loss: 1084638691328.0000 - mae: 775299.3750 - val_loss: 2282209935360.0000 - val_mae: 1149781.7500\n",
            "Epoch 72/150\n",
            "\u001b[1m14/14\u001b[0m \u001b[32m━━━━━━━━━━━━━━━━━━━━\u001b[0m\u001b[37m\u001b[0m \u001b[1m0s\u001b[0m 7ms/step - loss: 1181125050368.0000 - mae: 841502.1875 - val_loss: 2251873583104.0000 - val_mae: 1144627.1250\n",
            "Epoch 73/150\n",
            "\u001b[1m14/14\u001b[0m \u001b[32m━━━━━━━━━━━━━━━━━━━━\u001b[0m\u001b[37m\u001b[0m \u001b[1m0s\u001b[0m 8ms/step - loss: 1075531612160.0000 - mae: 776439.5625 - val_loss: 2249218326528.0000 - val_mae: 1143259.6250\n",
            "Epoch 74/150\n",
            "\u001b[1m14/14\u001b[0m \u001b[32m━━━━━━━━━━━━━━━━━━━━\u001b[0m\u001b[37m\u001b[0m \u001b[1m0s\u001b[0m 7ms/step - loss: 1212269723648.0000 - mae: 828819.9375 - val_loss: 2233056624640.0000 - val_mae: 1139666.2500\n",
            "Epoch 75/150\n",
            "\u001b[1m14/14\u001b[0m \u001b[32m━━━━━━━━━━━━━━━━━━━━\u001b[0m\u001b[37m\u001b[0m \u001b[1m0s\u001b[0m 7ms/step - loss: 984438603776.0000 - mae: 729547.1250 - val_loss: 2235713978368.0000 - val_mae: 1138892.5000\n",
            "Epoch 76/150\n",
            "\u001b[1m14/14\u001b[0m \u001b[32m━━━━━━━━━━━━━━━━━━━━\u001b[0m\u001b[37m\u001b[0m \u001b[1m0s\u001b[0m 7ms/step - loss: 906307764224.0000 - mae: 704215.2500 - val_loss: 2214001639424.0000 - val_mae: 1134500.1250\n",
            "Epoch 77/150\n",
            "\u001b[1m14/14\u001b[0m \u001b[32m━━━━━━━━━━━━━━━━━━━━\u001b[0m\u001b[37m\u001b[0m \u001b[1m0s\u001b[0m 8ms/step - loss: 1103248359424.0000 - mae: 756049.0000 - val_loss: 2205960372224.0000 - val_mae: 1132590.1250\n",
            "Epoch 78/150\n",
            "\u001b[1m14/14\u001b[0m \u001b[32m━━━━━━━━━━━━━━━━━━━━\u001b[0m\u001b[37m\u001b[0m \u001b[1m0s\u001b[0m 7ms/step - loss: 1123434758144.0000 - mae: 806671.7500 - val_loss: 2207345278976.0000 - val_mae: 1130970.1250\n",
            "Epoch 79/150\n",
            "\u001b[1m14/14\u001b[0m \u001b[32m━━━━━━━━━━━━━━━━━━━━\u001b[0m\u001b[37m\u001b[0m \u001b[1m0s\u001b[0m 7ms/step - loss: 1215642337280.0000 - mae: 837044.1250 - val_loss: 2192996958208.0000 - val_mae: 1127764.1250\n",
            "Epoch 80/150\n",
            "\u001b[1m14/14\u001b[0m \u001b[32m━━━━━━━━━━━━━━━━━━━━\u001b[0m\u001b[37m\u001b[0m \u001b[1m0s\u001b[0m 7ms/step - loss: 1142774824960.0000 - mae: 774450.3125 - val_loss: 2174909939712.0000 - val_mae: 1124101.6250\n",
            "Epoch 81/150\n",
            "\u001b[1m14/14\u001b[0m \u001b[32m━━━━━━━━━━━━━━━━━━━━\u001b[0m\u001b[37m\u001b[0m \u001b[1m0s\u001b[0m 7ms/step - loss: 1133748682752.0000 - mae: 782153.6250 - val_loss: 2185573302272.0000 - val_mae: 1123806.8750\n",
            "Epoch 82/150\n",
            "\u001b[1m14/14\u001b[0m \u001b[32m━━━━━━━━━━━━━━━━━━━━\u001b[0m\u001b[37m\u001b[0m \u001b[1m0s\u001b[0m 10ms/step - loss: 978011095040.0000 - mae: 736035.3750 - val_loss: 2176341114880.0000 - val_mae: 1121031.8750\n",
            "Epoch 83/150\n",
            "\u001b[1m14/14\u001b[0m \u001b[32m━━━━━━━━━━━━━━━━━━━━\u001b[0m\u001b[37m\u001b[0m \u001b[1m0s\u001b[0m 8ms/step - loss: 1165605863424.0000 - mae: 775452.1250 - val_loss: 2157990248448.0000 - val_mae: 1117705.3750\n",
            "Epoch 84/150\n",
            "\u001b[1m14/14\u001b[0m \u001b[32m━━━━━━━━━━━━━━━━━━━━\u001b[0m\u001b[37m\u001b[0m \u001b[1m0s\u001b[0m 7ms/step - loss: 994816360448.0000 - mae: 749723.5625 - val_loss: 2147753918464.0000 - val_mae: 1114526.6250\n",
            "Epoch 85/150\n",
            "\u001b[1m14/14\u001b[0m \u001b[32m━━━━━━━━━━━━━━━━━━━━\u001b[0m\u001b[37m\u001b[0m \u001b[1m0s\u001b[0m 7ms/step - loss: 1023870173184.0000 - mae: 758803.1875 - val_loss: 2147866247168.0000 - val_mae: 1112808.6250\n",
            "Epoch 86/150\n",
            "\u001b[1m14/14\u001b[0m \u001b[32m━━━━━━━━━━━━━━━━━━━━\u001b[0m\u001b[37m\u001b[0m \u001b[1m0s\u001b[0m 7ms/step - loss: 1011866796032.0000 - mae: 743489.9375 - val_loss: 2144599801856.0000 - val_mae: 1111312.3750\n",
            "Epoch 87/150\n",
            "\u001b[1m14/14\u001b[0m \u001b[32m━━━━━━━━━━━━━━━━━━━━\u001b[0m\u001b[37m\u001b[0m \u001b[1m0s\u001b[0m 8ms/step - loss: 947958775808.0000 - mae: 722054.8125 - val_loss: 2133959114752.0000 - val_mae: 1107895.2500\n",
            "Epoch 88/150\n",
            "\u001b[1m14/14\u001b[0m \u001b[32m━━━━━━━━━━━━━━━━━━━━\u001b[0m\u001b[37m\u001b[0m \u001b[1m0s\u001b[0m 10ms/step - loss: 991497289728.0000 - mae: 751723.0625 - val_loss: 2128604561408.0000 - val_mae: 1105738.6250\n",
            "Epoch 89/150\n",
            "\u001b[1m14/14\u001b[0m \u001b[32m━━━━━━━━━━━━━━━━━━━━\u001b[0m\u001b[37m\u001b[0m \u001b[1m0s\u001b[0m 7ms/step - loss: 973222510592.0000 - mae: 719308.3125 - val_loss: 2131909148672.0000 - val_mae: 1104230.2500\n",
            "Epoch 90/150\n",
            "\u001b[1m14/14\u001b[0m \u001b[32m━━━━━━━━━━━━━━━━━━━━\u001b[0m\u001b[37m\u001b[0m \u001b[1m0s\u001b[0m 7ms/step - loss: 1096312225792.0000 - mae: 747074.1875 - val_loss: 2105414647808.0000 - val_mae: 1099406.6250\n",
            "Epoch 91/150\n",
            "\u001b[1m14/14\u001b[0m \u001b[32m━━━━━━━━━━━━━━━━━━━━\u001b[0m\u001b[37m\u001b[0m \u001b[1m0s\u001b[0m 7ms/step - loss: 1053115875328.0000 - mae: 771203.0000 - val_loss: 2107074674688.0000 - val_mae: 1097798.6250\n",
            "Epoch 92/150\n",
            "\u001b[1m14/14\u001b[0m \u001b[32m━━━━━━━━━━━━━━━━━━━━\u001b[0m\u001b[37m\u001b[0m \u001b[1m0s\u001b[0m 7ms/step - loss: 996697309184.0000 - mae: 748886.7500 - val_loss: 2102012411904.0000 - val_mae: 1096463.8750\n",
            "Epoch 93/150\n",
            "\u001b[1m14/14\u001b[0m \u001b[32m━━━━━━━━━━━━━━━━━━━━\u001b[0m\u001b[37m\u001b[0m \u001b[1m0s\u001b[0m 10ms/step - loss: 968955396096.0000 - mae: 726224.3125 - val_loss: 2084612472832.0000 - val_mae: 1092383.8750\n",
            "Epoch 94/150\n",
            "\u001b[1m14/14\u001b[0m \u001b[32m━━━━━━━━━━━━━━━━━━━━\u001b[0m\u001b[37m\u001b[0m \u001b[1m0s\u001b[0m 7ms/step - loss: 921119162368.0000 - mae: 708948.6250 - val_loss: 2086837682176.0000 - val_mae: 1090679.6250\n",
            "Epoch 95/150\n",
            "\u001b[1m14/14\u001b[0m \u001b[32m━━━━━━━━━━━━━━━━━━━━\u001b[0m\u001b[37m\u001b[0m \u001b[1m0s\u001b[0m 7ms/step - loss: 1018827177984.0000 - mae: 750902.2500 - val_loss: 2077683220480.0000 - val_mae: 1088721.1250\n",
            "Epoch 96/150\n",
            "\u001b[1m14/14\u001b[0m \u001b[32m━━━━━━━━━━━━━━━━━━━━\u001b[0m\u001b[37m\u001b[0m \u001b[1m0s\u001b[0m 7ms/step - loss: 919326294016.0000 - mae: 725720.0000 - val_loss: 2077021831168.0000 - val_mae: 1087071.0000\n",
            "Epoch 97/150\n",
            "\u001b[1m14/14\u001b[0m \u001b[32m━━━━━━━━━━━━━━━━━━━━\u001b[0m\u001b[37m\u001b[0m \u001b[1m0s\u001b[0m 7ms/step - loss: 1064532246528.0000 - mae: 754520.7500 - val_loss: 2074844463104.0000 - val_mae: 1086348.2500\n",
            "Epoch 98/150\n",
            "\u001b[1m14/14\u001b[0m \u001b[32m━━━━━━━━━━━━━━━━━━━━\u001b[0m\u001b[37m\u001b[0m \u001b[1m0s\u001b[0m 7ms/step - loss: 1169238261760.0000 - mae: 791677.5000 - val_loss: 2060037128192.0000 - val_mae: 1082117.6250\n",
            "Epoch 99/150\n",
            "\u001b[1m14/14\u001b[0m \u001b[32m━━━━━━━━━━━━━━━━━━━━\u001b[0m\u001b[37m\u001b[0m \u001b[1m0s\u001b[0m 7ms/step - loss: 1025966800896.0000 - mae: 753634.5000 - val_loss: 2061772128256.0000 - val_mae: 1081390.7500\n",
            "Epoch 100/150\n",
            "\u001b[1m14/14\u001b[0m \u001b[32m━━━━━━━━━━━━━━━━━━━━\u001b[0m\u001b[37m\u001b[0m \u001b[1m0s\u001b[0m 7ms/step - loss: 951508205568.0000 - mae: 719671.1875 - val_loss: 2053188747264.0000 - val_mae: 1079254.8750\n",
            "Epoch 101/150\n",
            "\u001b[1m14/14\u001b[0m \u001b[32m━━━━━━━━━━━━━━━━━━━━\u001b[0m\u001b[37m\u001b[0m \u001b[1m0s\u001b[0m 7ms/step - loss: 988374564864.0000 - mae: 733721.2500 - val_loss: 2053014421504.0000 - val_mae: 1078029.6250\n",
            "Epoch 102/150\n",
            "\u001b[1m14/14\u001b[0m \u001b[32m━━━━━━━━━━━━━━━━━━━━\u001b[0m\u001b[37m\u001b[0m \u001b[1m0s\u001b[0m 7ms/step - loss: 881160093696.0000 - mae: 692505.6875 - val_loss: 2053527568384.0000 - val_mae: 1076290.3750\n",
            "Epoch 103/150\n",
            "\u001b[1m14/14\u001b[0m \u001b[32m━━━━━━━━━━━━━━━━━━━━\u001b[0m\u001b[37m\u001b[0m \u001b[1m0s\u001b[0m 7ms/step - loss: 1058608644096.0000 - mae: 739802.6875 - val_loss: 2027172790272.0000 - val_mae: 1072244.7500\n",
            "Epoch 104/150\n",
            "\u001b[1m14/14\u001b[0m \u001b[32m━━━━━━━━━━━━━━━━━━━━\u001b[0m\u001b[37m\u001b[0m \u001b[1m0s\u001b[0m 8ms/step - loss: 948157480960.0000 - mae: 729321.6875 - val_loss: 2039061020672.0000 - val_mae: 1071812.6250\n",
            "Epoch 105/150\n",
            "\u001b[1m14/14\u001b[0m \u001b[32m━━━━━━━━━━━━━━━━━━━━\u001b[0m\u001b[37m\u001b[0m \u001b[1m0s\u001b[0m 7ms/step - loss: 1095073595392.0000 - mae: 757161.6250 - val_loss: 2020461510656.0000 - val_mae: 1069466.1250\n",
            "Epoch 106/150\n",
            "\u001b[1m14/14\u001b[0m \u001b[32m━━━━━━━━━━━━━━━━━━━━\u001b[0m\u001b[37m\u001b[0m \u001b[1m0s\u001b[0m 7ms/step - loss: 991025102848.0000 - mae: 751232.1875 - val_loss: 2032465870848.0000 - val_mae: 1069481.3750\n",
            "Epoch 107/150\n",
            "\u001b[1m14/14\u001b[0m \u001b[32m━━━━━━━━━━━━━━━━━━━━\u001b[0m\u001b[37m\u001b[0m \u001b[1m0s\u001b[0m 7ms/step - loss: 1046319529984.0000 - mae: 746985.0625 - val_loss: 2014702469120.0000 - val_mae: 1065763.7500\n",
            "Epoch 108/150\n",
            "\u001b[1m14/14\u001b[0m \u001b[32m━━━━━━━━━━━━━━━━━━━━\u001b[0m\u001b[37m\u001b[0m \u001b[1m0s\u001b[0m 8ms/step - loss: 900373610496.0000 - mae: 709896.5625 - val_loss: 2018496872448.0000 - val_mae: 1065370.2500\n",
            "Epoch 109/150\n",
            "\u001b[1m14/14\u001b[0m \u001b[32m━━━━━━━━━━━━━━━━━━━━\u001b[0m\u001b[37m\u001b[0m \u001b[1m0s\u001b[0m 10ms/step - loss: 956035825664.0000 - mae: 720654.0000 - val_loss: 2020882120704.0000 - val_mae: 1064870.8750\n",
            "Epoch 110/150\n",
            "\u001b[1m14/14\u001b[0m \u001b[32m━━━━━━━━━━━━━━━━━━━━\u001b[0m\u001b[37m\u001b[0m \u001b[1m0s\u001b[0m 7ms/step - loss: 906771496960.0000 - mae: 697269.6875 - val_loss: 2018195931136.0000 - val_mae: 1062633.0000\n",
            "Epoch 111/150\n",
            "\u001b[1m14/14\u001b[0m \u001b[32m━━━━━━━━━━━━━━━━━━━━\u001b[0m\u001b[37m\u001b[0m \u001b[1m0s\u001b[0m 11ms/step - loss: 977611718656.0000 - mae: 747524.3750 - val_loss: 2002281431040.0000 - val_mae: 1059741.2500\n",
            "Epoch 112/150\n",
            "\u001b[1m14/14\u001b[0m \u001b[32m━━━━━━━━━━━━━━━━━━━━\u001b[0m\u001b[37m\u001b[0m \u001b[1m0s\u001b[0m 7ms/step - loss: 909342539776.0000 - mae: 716707.6250 - val_loss: 1995039440896.0000 - val_mae: 1057423.5000\n",
            "Epoch 113/150\n",
            "\u001b[1m14/14\u001b[0m \u001b[32m━━━━━━━━━━━━━━━━━━━━\u001b[0m\u001b[37m\u001b[0m \u001b[1m0s\u001b[0m 10ms/step - loss: 1072684990464.0000 - mae: 761740.5625 - val_loss: 1994714906624.0000 - val_mae: 1056570.8750\n",
            "Epoch 114/150\n",
            "\u001b[1m14/14\u001b[0m \u001b[32m━━━━━━━━━━━━━━━━━━━━\u001b[0m\u001b[37m\u001b[0m \u001b[1m0s\u001b[0m 8ms/step - loss: 989465739264.0000 - mae: 739815.1875 - val_loss: 2002742411264.0000 - val_mae: 1056734.7500\n",
            "Epoch 115/150\n",
            "\u001b[1m14/14\u001b[0m \u001b[32m━━━━━━━━━━━━━━━━━━━━\u001b[0m\u001b[37m\u001b[0m \u001b[1m0s\u001b[0m 7ms/step - loss: 914003329024.0000 - mae: 706867.9375 - val_loss: 1978002571264.0000 - val_mae: 1052219.2500\n",
            "Epoch 116/150\n",
            "\u001b[1m14/14\u001b[0m \u001b[32m━━━━━━━━━━━━━━━━━━━━\u001b[0m\u001b[37m\u001b[0m \u001b[1m0s\u001b[0m 8ms/step - loss: 855049175040.0000 - mae: 707742.9375 - val_loss: 1987324936192.0000 - val_mae: 1051737.8750\n",
            "Epoch 117/150\n",
            "\u001b[1m14/14\u001b[0m \u001b[32m━━━━━━━━━━━━━━━━━━━━\u001b[0m\u001b[37m\u001b[0m \u001b[1m0s\u001b[0m 8ms/step - loss: 988611084288.0000 - mae: 711658.5625 - val_loss: 1974003564544.0000 - val_mae: 1049137.7500\n",
            "Epoch 118/150\n",
            "\u001b[1m14/14\u001b[0m \u001b[32m━━━━━━━━━━━━━━━━━━━━\u001b[0m\u001b[37m\u001b[0m \u001b[1m0s\u001b[0m 7ms/step - loss: 966993575936.0000 - mae: 720976.7500 - val_loss: 1971271761920.0000 - val_mae: 1047217.7500\n",
            "Epoch 119/150\n",
            "\u001b[1m14/14\u001b[0m \u001b[32m━━━━━━━━━━━━━━━━━━━━\u001b[0m\u001b[37m\u001b[0m \u001b[1m0s\u001b[0m 7ms/step - loss: 855796482048.0000 - mae: 695555.5000 - val_loss: 1979409498112.0000 - val_mae: 1047185.0000\n",
            "Epoch 120/150\n",
            "\u001b[1m14/14\u001b[0m \u001b[32m━━━━━━━━━━━━━━━━━━━━\u001b[0m\u001b[37m\u001b[0m \u001b[1m0s\u001b[0m 7ms/step - loss: 866831826944.0000 - mae: 688986.9375 - val_loss: 1973701574656.0000 - val_mae: 1046025.5625\n",
            "Epoch 121/150\n",
            "\u001b[1m14/14\u001b[0m \u001b[32m━━━━━━━━━━━━━━━━━━━━\u001b[0m\u001b[37m\u001b[0m \u001b[1m0s\u001b[0m 8ms/step - loss: 1009380425728.0000 - mae: 731606.7500 - val_loss: 1952577617920.0000 - val_mae: 1042444.0625\n",
            "Epoch 122/150\n",
            "\u001b[1m14/14\u001b[0m \u001b[32m━━━━━━━━━━━━━━━━━━━━\u001b[0m\u001b[37m\u001b[0m \u001b[1m0s\u001b[0m 10ms/step - loss: 1051278311424.0000 - mae: 755862.7500 - val_loss: 1968758849536.0000 - val_mae: 1043419.3125\n",
            "Epoch 123/150\n",
            "\u001b[1m14/14\u001b[0m \u001b[32m━━━━━━━━━━━━━━━━━━━━\u001b[0m\u001b[37m\u001b[0m \u001b[1m0s\u001b[0m 7ms/step - loss: 850486624256.0000 - mae: 697910.0625 - val_loss: 1957499371520.0000 - val_mae: 1040168.5000\n",
            "Epoch 124/150\n",
            "\u001b[1m14/14\u001b[0m \u001b[32m━━━━━━━━━━━━━━━━━━━━\u001b[0m\u001b[37m\u001b[0m \u001b[1m0s\u001b[0m 8ms/step - loss: 933678415872.0000 - mae: 711139.0625 - val_loss: 1953160364032.0000 - val_mae: 1038843.0625\n",
            "Epoch 125/150\n",
            "\u001b[1m14/14\u001b[0m \u001b[32m━━━━━━━━━━━━━━━━━━━━\u001b[0m\u001b[37m\u001b[0m \u001b[1m0s\u001b[0m 7ms/step - loss: 1158318391296.0000 - mae: 780006.6250 - val_loss: 1956730109952.0000 - val_mae: 1038305.9375\n",
            "Epoch 126/150\n",
            "\u001b[1m14/14\u001b[0m \u001b[32m━━━━━━━━━━━━━━━━━━━━\u001b[0m\u001b[37m\u001b[0m \u001b[1m0s\u001b[0m 10ms/step - loss: 987446902784.0000 - mae: 717550.1250 - val_loss: 1955505373184.0000 - val_mae: 1036507.1250\n",
            "Epoch 127/150\n",
            "\u001b[1m14/14\u001b[0m \u001b[32m━━━━━━━━━━━━━━━━━━━━\u001b[0m\u001b[37m\u001b[0m \u001b[1m0s\u001b[0m 13ms/step - loss: 997657280512.0000 - mae: 730577.0625 - val_loss: 1934205517824.0000 - val_mae: 1032194.1250\n",
            "Epoch 128/150\n",
            "\u001b[1m14/14\u001b[0m \u001b[32m━━━━━━━━━━━━━━━━━━━━\u001b[0m\u001b[37m\u001b[0m \u001b[1m0s\u001b[0m 13ms/step - loss: 940421873664.0000 - mae: 724668.2500 - val_loss: 1951848202240.0000 - val_mae: 1033456.3125\n",
            "Epoch 129/150\n",
            "\u001b[1m14/14\u001b[0m \u001b[32m━━━━━━━━━━━━━━━━━━━━\u001b[0m\u001b[37m\u001b[0m \u001b[1m0s\u001b[0m 13ms/step - loss: 804666605568.0000 - mae: 667619.1875 - val_loss: 1945980370944.0000 - val_mae: 1032593.9375\n",
            "Epoch 130/150\n",
            "\u001b[1m14/14\u001b[0m \u001b[32m━━━━━━━━━━━━━━━━━━━━\u001b[0m\u001b[37m\u001b[0m \u001b[1m0s\u001b[0m 12ms/step - loss: 954478428160.0000 - mae: 720224.8125 - val_loss: 1929999810560.0000 - val_mae: 1029137.6875\n",
            "Epoch 131/150\n",
            "\u001b[1m14/14\u001b[0m \u001b[32m━━━━━━━━━━━━━━━━━━━━\u001b[0m\u001b[37m\u001b[0m \u001b[1m0s\u001b[0m 12ms/step - loss: 924237168640.0000 - mae: 717648.5000 - val_loss: 1918137008128.0000 - val_mae: 1025634.9375\n",
            "Epoch 132/150\n",
            "\u001b[1m14/14\u001b[0m \u001b[32m━━━━━━━━━━━━━━━━━━━━\u001b[0m\u001b[37m\u001b[0m \u001b[1m0s\u001b[0m 11ms/step - loss: 808438398976.0000 - mae: 656476.4375 - val_loss: 1933696303104.0000 - val_mae: 1027016.6875\n",
            "Epoch 133/150\n",
            "\u001b[1m14/14\u001b[0m \u001b[32m━━━━━━━━━━━━━━━━━━━━\u001b[0m\u001b[37m\u001b[0m \u001b[1m0s\u001b[0m 14ms/step - loss: 919195746304.0000 - mae: 721391.6875 - val_loss: 1941018247168.0000 - val_mae: 1027243.0000\n",
            "Epoch 134/150\n",
            "\u001b[1m14/14\u001b[0m \u001b[32m━━━━━━━━━━━━━━━━━━━━\u001b[0m\u001b[37m\u001b[0m \u001b[1m0s\u001b[0m 10ms/step - loss: 752049324032.0000 - mae: 646551.1250 - val_loss: 1926570049536.0000 - val_mae: 1024060.2500\n",
            "Epoch 135/150\n",
            "\u001b[1m14/14\u001b[0m \u001b[32m━━━━━━━━━━━━━━━━━━━━\u001b[0m\u001b[37m\u001b[0m \u001b[1m0s\u001b[0m 8ms/step - loss: 916927873024.0000 - mae: 727707.6250 - val_loss: 1925111087104.0000 - val_mae: 1022666.4375\n",
            "Epoch 136/150\n",
            "\u001b[1m14/14\u001b[0m \u001b[32m━━━━━━━━━━━━━━━━━━━━\u001b[0m\u001b[37m\u001b[0m \u001b[1m0s\u001b[0m 7ms/step - loss: 931224223744.0000 - mae: 715062.5625 - val_loss: 1903409627136.0000 - val_mae: 1018139.1250\n",
            "Epoch 137/150\n",
            "\u001b[1m14/14\u001b[0m \u001b[32m━━━━━━━━━━━━━━━━━━━━\u001b[0m\u001b[37m\u001b[0m \u001b[1m0s\u001b[0m 8ms/step - loss: 852037140480.0000 - mae: 683267.3125 - val_loss: 1911438573568.0000 - val_mae: 1017660.9375\n",
            "Epoch 138/150\n",
            "\u001b[1m14/14\u001b[0m \u001b[32m━━━━━━━━━━━━━━━━━━━━\u001b[0m\u001b[37m\u001b[0m \u001b[1m0s\u001b[0m 7ms/step - loss: 811315429376.0000 - mae: 671007.4375 - val_loss: 1928653963264.0000 - val_mae: 1019697.6250\n",
            "Epoch 139/150\n",
            "\u001b[1m14/14\u001b[0m \u001b[32m━━━━━━━━━━━━━━━━━━━━\u001b[0m\u001b[37m\u001b[0m \u001b[1m0s\u001b[0m 7ms/step - loss: 989131046912.0000 - mae: 730156.0000 - val_loss: 1905926733824.0000 - val_mae: 1015273.3125\n",
            "Epoch 140/150\n",
            "\u001b[1m14/14\u001b[0m \u001b[32m━━━━━━━━━━━━━━━━━━━━\u001b[0m\u001b[37m\u001b[0m \u001b[1m0s\u001b[0m 7ms/step - loss: 902648430592.0000 - mae: 688151.5000 - val_loss: 1903914647552.0000 - val_mae: 1014467.3750\n",
            "Epoch 141/150\n",
            "\u001b[1m14/14\u001b[0m \u001b[32m━━━━━━━━━━━━━━━━━━━━\u001b[0m\u001b[37m\u001b[0m \u001b[1m0s\u001b[0m 7ms/step - loss: 862643683328.0000 - mae: 693350.3750 - val_loss: 1905215930368.0000 - val_mae: 1014231.5000\n",
            "Epoch 142/150\n",
            "\u001b[1m14/14\u001b[0m \u001b[32m━━━━━━━━━━━━━━━━━━━━\u001b[0m\u001b[37m\u001b[0m \u001b[1m0s\u001b[0m 11ms/step - loss: 899881697280.0000 - mae: 705016.5625 - val_loss: 1910292348928.0000 - val_mae: 1013237.3750\n",
            "Epoch 143/150\n",
            "\u001b[1m14/14\u001b[0m \u001b[32m━━━━━━━━━━━━━━━━━━━━\u001b[0m\u001b[37m\u001b[0m \u001b[1m0s\u001b[0m 8ms/step - loss: 747467243520.0000 - mae: 647707.8125 - val_loss: 1909372223488.0000 - val_mae: 1012530.5000\n",
            "Epoch 144/150\n",
            "\u001b[1m14/14\u001b[0m \u001b[32m━━━━━━━━━━━━━━━━━━━━\u001b[0m\u001b[37m\u001b[0m \u001b[1m0s\u001b[0m 7ms/step - loss: 830137761792.0000 - mae: 679311.0000 - val_loss: 1898419978240.0000 - val_mae: 1010824.3750\n",
            "Epoch 145/150\n",
            "\u001b[1m14/14\u001b[0m \u001b[32m━━━━━━━━━━━━━━━━━━━━\u001b[0m\u001b[37m\u001b[0m \u001b[1m0s\u001b[0m 7ms/step - loss: 858952826880.0000 - mae: 688126.4375 - val_loss: 1898140401664.0000 - val_mae: 1009634.5000\n",
            "Epoch 146/150\n",
            "\u001b[1m14/14\u001b[0m \u001b[32m━━━━━━━━━━━━━━━━━━━━\u001b[0m\u001b[37m\u001b[0m \u001b[1m0s\u001b[0m 9ms/step - loss: 850242830336.0000 - mae: 693884.7500 - val_loss: 1882739834880.0000 - val_mae: 1008053.0000\n",
            "Epoch 147/150\n",
            "\u001b[1m14/14\u001b[0m \u001b[32m━━━━━━━━━━━━━━━━━━━━\u001b[0m\u001b[37m\u001b[0m \u001b[1m0s\u001b[0m 8ms/step - loss: 890765180928.0000 - mae: 696550.6250 - val_loss: 1902591606784.0000 - val_mae: 1010097.3750\n",
            "Epoch 148/150\n",
            "\u001b[1m14/14\u001b[0m \u001b[32m━━━━━━━━━━━━━━━━━━━━\u001b[0m\u001b[37m\u001b[0m \u001b[1m0s\u001b[0m 7ms/step - loss: 864161824768.0000 - mae: 699444.6875 - val_loss: 1890660122624.0000 - val_mae: 1008147.3750\n",
            "Epoch 149/150\n",
            "\u001b[1m14/14\u001b[0m \u001b[32m━━━━━━━━━━━━━━━━━━━━\u001b[0m\u001b[37m\u001b[0m \u001b[1m0s\u001b[0m 7ms/step - loss: 918008168448.0000 - mae: 712820.3750 - val_loss: 1899950505984.0000 - val_mae: 1008165.7500\n",
            "Epoch 150/150\n",
            "\u001b[1m14/14\u001b[0m \u001b[32m━━━━━━━━━━━━━━━━━━━━\u001b[0m\u001b[37m\u001b[0m \u001b[1m0s\u001b[0m 8ms/step - loss: 853518123008.0000 - mae: 675620.3750 - val_loss: 1872932634624.0000 - val_mae: 1003998.6875\n"
          ]
        }
      ]
    },
    {
      "cell_type": "code",
      "source": [
        "\n",
        "train_loss, train_mae = model.evaluate(X_train, y_train)\n",
        "print(f'Training Mean Absolute Error: {train_mae:.4f}')\n",
        "test_loss, test_mae = model.evaluate(X_test, y_test)\n",
        "print(f'Testing Mean Absolute Error: {test_mae:.4f}')\n"
      ],
      "metadata": {
        "colab": {
          "base_uri": "https://localhost:8080/"
        },
        "id": "5Tp9GHPlIMPw",
        "outputId": "79475b1a-9863-4fe0-b9b5-e21332bd7a86"
      },
      "execution_count": 19,
      "outputs": [
        {
          "output_type": "stream",
          "name": "stdout",
          "text": [
            "\u001b[1m14/14\u001b[0m \u001b[32m━━━━━━━━━━━━━━━━━━━━\u001b[0m\u001b[37m\u001b[0m \u001b[1m0s\u001b[0m 3ms/step - loss: 886762700800.0000 - mae: 705495.7500 \n",
            "Training Mean Absolute Error: 693736.1250\n",
            "\u001b[1m4/4\u001b[0m \u001b[32m━━━━━━━━━━━━━━━━━━━━\u001b[0m\u001b[37m\u001b[0m \u001b[1m0s\u001b[0m 9ms/step - loss: 1763104260096.0000 - mae: 965705.0000 \n",
            "Testing Mean Absolute Error: 1003998.6875\n"
          ]
        }
      ]
    },
    {
      "cell_type": "code",
      "source": [
        "\n",
        "model.save('housing_price_model.h5')\n"
      ],
      "metadata": {
        "colab": {
          "base_uri": "https://localhost:8080/"
        },
        "id": "P8wajYKCIOKR",
        "outputId": "04ac2de1-6e3b-4a4e-b38c-500d51b2ecf4"
      },
      "execution_count": 20,
      "outputs": [
        {
          "output_type": "stream",
          "name": "stderr",
          "text": [
            "WARNING:absl:You are saving your model as an HDF5 file via `model.save()` or `keras.saving.save_model(model)`. This file format is considered legacy. We recommend using instead the native Keras format, e.g. `model.save('my_model.keras')` or `keras.saving.save_model(model, 'my_model.keras')`. \n"
          ]
        }
      ]
    }
  ]
}