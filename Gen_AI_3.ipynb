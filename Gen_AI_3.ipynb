{
  "nbformat": 4,
  "nbformat_minor": 0,
  "metadata": {
    "colab": {
      "provenance": [],
      "authorship_tag": "ABX9TyPaPfNODxGbMNQe9Cx+N1Fm",
      "include_colab_link": true
    },
    "kernelspec": {
      "name": "python3",
      "display_name": "Python 3"
    },
    "language_info": {
      "name": "python"
    }
  },
  "cells": [
    {
      "cell_type": "markdown",
      "metadata": {
        "id": "view-in-github",
        "colab_type": "text"
      },
      "source": [
        "<a href=\"https://colab.research.google.com/github/Nitesh0112/Genrative_AI_2303A52098/blob/main/Gen_AI_3.ipynb\" target=\"_parent\"><img src=\"https://colab.research.google.com/assets/colab-badge.svg\" alt=\"Open In Colab\"/></a>"
      ]
    },
    {
      "cell_type": "markdown",
      "source": [
        "1.Write Python code without using any libraries to find the value of x at which the\n",
        "function f(x) shown in equation (1) has minimum value. Consider Gradient Descent Algorithm.\n",
        "f (x) = 5x4 + 3x2 + 10"
      ],
      "metadata": {
        "id": "XieIIqLSh9Hp"
      }
    },
    {
      "cell_type": "code",
      "source": [
        "def f(x):\n",
        "  return 5 * x**4 + 3 * x**2 + 10"
      ],
      "metadata": {
        "id": "G46kVJUoiBY6"
      },
      "execution_count": 18,
      "outputs": []
    },
    {
      "cell_type": "code",
      "source": [
        "def df(x):\n",
        "  return 20 * x**3 + 6 * x"
      ],
      "metadata": {
        "id": "TZa6idqFid5v"
      },
      "execution_count": 19,
      "outputs": []
    },
    {
      "cell_type": "code",
      "source": [
        "def gradient_descent(learning_rate=0.01, iterations=1000, initial_x=1):\n",
        "  x = initial_x\n",
        "  for _ in range(iterations):\n",
        "    gradient = df(x)\n",
        "    x = x - learning_rate * gradient\n",
        "  return x\n",
        ""
      ],
      "metadata": {
        "id": "OAGjn9gqim1u"
      },
      "execution_count": 20,
      "outputs": []
    },
    {
      "cell_type": "code",
      "source": [
        "learning_rate = 0.01\n",
        "iterations = 1000\n",
        "initial_x = 1"
      ],
      "metadata": {
        "id": "Zp3917EPjLMD"
      },
      "execution_count": 21,
      "outputs": []
    },
    {
      "cell_type": "code",
      "source": [
        "x_min = gradient_descent(learning_rate, iterations, initial_x)"
      ],
      "metadata": {
        "id": "YIM6KnEhjOgz"
      },
      "execution_count": 22,
      "outputs": []
    },
    {
      "cell_type": "code",
      "source": [
        "print(\"The value of x at which the function has a minimum is:\", x_min)"
      ],
      "metadata": {
        "colab": {
          "base_uri": "https://localhost:8080/"
        },
        "id": "B8_8RwxqjRoz",
        "outputId": "f8da6ffd-9f90-4e98-a0a7-291ff70e7825"
      },
      "execution_count": 23,
      "outputs": [
        {
          "output_type": "stream",
          "name": "stdout",
          "text": [
            "The value of x at which the function has a minimum is: 5.963540395046457e-28\n"
          ]
        }
      ]
    },
    {
      "cell_type": "markdown",
      "source": [
        "2.Write Python code without using any libraries to find the value of x and y at which the\n",
        "function g(x,y) shown in equation (2) has minimum value. Consider Gradient Descent Algorithm.\n",
        "f (x) = 3x2 + 5e−y + 10"
      ],
      "metadata": {
        "id": "QKcZO2nkjVyU"
      }
    },
    {
      "cell_type": "code",
      "source": [
        "import math\n",
        "def g(x, y):\n",
        "  return 3 * x**2 + 5 * math.exp(-y) + 10\n"
      ],
      "metadata": {
        "id": "mNUFfDCAjcU1"
      },
      "execution_count": 9,
      "outputs": []
    },
    {
      "cell_type": "code",
      "source": [
        "def dg_dx(x, y):\n",
        "  return 6 * x\n",
        "\n",
        "def dg_dy(x, y):\n",
        "  return -5 * math.exp(-y)"
      ],
      "metadata": {
        "id": "5SeDPtiYjmj_"
      },
      "execution_count": 10,
      "outputs": []
    },
    {
      "cell_type": "code",
      "source": [
        "def gradient_descent(learning_rate=0.01, iterations=1000, initial_x=1, initial_y=1):\n",
        "  x = initial_x\n",
        "  y = initial_y\n",
        "  for _ in range(iterations):\n",
        "    gradient_x = dg_dx(x, y)\n",
        "    gradient_y = dg_dy(x, y)\n",
        "    x = x - learning_rate * gradient_x\n",
        "    y = y - learning_rate * gradient_y\n",
        "  return x, y"
      ],
      "metadata": {
        "id": "3eGk0P0IjqV3"
      },
      "execution_count": 14,
      "outputs": []
    },
    {
      "cell_type": "code",
      "source": [
        "learning_rate = 0.01\n",
        "iterations = 1000\n",
        "initial_x = 1\n",
        "initial_y = 1"
      ],
      "metadata": {
        "id": "tyGU81DQjvZv"
      },
      "execution_count": 15,
      "outputs": []
    },
    {
      "cell_type": "code",
      "source": [
        "x_min, y_min = gradient_descent(learning_rate, iterations, initial_x, initial_y)\n",
        "print(\"The value of x at which the function has a minimum is:\", x_min)\n",
        "print(\"The value of y at which the function has a minimum is:\", y_min)"
      ],
      "metadata": {
        "colab": {
          "base_uri": "https://localhost:8080/"
        },
        "id": "Zl8mGe2dkFUy",
        "outputId": "2a1eb6e9-8037-431e-80fe-4044b01d01c8"
      },
      "execution_count": 16,
      "outputs": [
        {
          "output_type": "stream",
          "name": "stdout",
          "text": [
            "The value of x at which the function has a minimum is: 1.3423123924933694e-27\n",
            "The value of y at which the function has a minimum is: 3.9663707936306642\n"
          ]
        }
      ]
    },
    {
      "cell_type": "markdown",
      "source": [
        "3.Write Python code without using any libraries to find the value of x at which the\n",
        "sigmoid function z(x) shown in equation (3) has minimum value. Consider Gradient Descent\n",
        "Algorithm.\n",
        "z(x) = 1\n",
        "1 + e−x"
      ],
      "metadata": {
        "id": "qu4md-IXkKLL"
      }
    },
    {
      "cell_type": "code",
      "source": [
        "import math\n",
        "def sigmoid(x):\n",
        "  return 1 / (1 + math.exp(-x))"
      ],
      "metadata": {
        "id": "NvspYhbYkR3d"
      },
      "execution_count": 17,
      "outputs": []
    },
    {
      "cell_type": "code",
      "source": [
        "def sigmoid_derivative(x):\n",
        "  return sigmoid(x) * (1 - sigmoid(x))"
      ],
      "metadata": {
        "id": "8SPAkFn2k3Qw"
      },
      "execution_count": 24,
      "outputs": []
    },
    {
      "cell_type": "code",
      "source": [
        "def gradient_descent(learning_rate=0.01, iterations=1000, initial_x=0):\n",
        "  x = initial_x\n",
        "  for _ in range(iterations):\n",
        "    gradient = sigmoid_derivative(x)\n",
        "    x = x - learning_rate * gradient\n",
        "  return x"
      ],
      "metadata": {
        "id": "43EaAdc8k-bJ"
      },
      "execution_count": 25,
      "outputs": []
    },
    {
      "cell_type": "code",
      "source": [
        "learning_rate = 0.01\n",
        "iterations = 1000\n",
        "initial_x = 0\n"
      ],
      "metadata": {
        "id": "5DB8DKD7lK_s"
      },
      "execution_count": 26,
      "outputs": []
    },
    {
      "cell_type": "code",
      "source": [
        "x_min = gradient_descent(learning_rate, iterations, initial_x)\n",
        "print(\"The value of x at which the sigmoid function has a minimum is:\", x_min)"
      ],
      "metadata": {
        "colab": {
          "base_uri": "https://localhost:8080/"
        },
        "id": "emQpa1W1lN3b",
        "outputId": "8eb502fe-bc3c-4add-ae38-3f49318bdad6"
      },
      "execution_count": 27,
      "outputs": [
        {
          "output_type": "stream",
          "name": "stdout",
          "text": [
            "The value of x at which the sigmoid function has a minimum is: -1.8618354629020137\n"
          ]
        }
      ]
    },
    {
      "cell_type": "markdown",
      "source": [
        "4.Write Python code without using any libraries to find the value of optimal values of\n",
        "model parameters M and C such that the model’s Square Error Value shown in equation 4 will\n",
        "be minimum. It means model gives output close to expected output as shown in Figure"
      ],
      "metadata": {
        "id": "ZWUX7yeWlran"
      }
    },
    {
      "cell_type": "code",
      "source": [
        "def predict(x, m, c):\n",
        "    return m * x + c"
      ],
      "metadata": {
        "id": "O6N0tY-VmzqI"
      },
      "execution_count": 28,
      "outputs": []
    },
    {
      "cell_type": "code",
      "source": [
        "def squared_error(x_values, y_values, m, c):\n",
        "    error = 0\n",
        "    for x, y in zip(x_values, y_values):\n",
        "        error += (y - predict(x, m, c)) ** 2\n",
        "    return error\n"
      ],
      "metadata": {
        "id": "aIvRtYBpnUnF"
      },
      "execution_count": 29,
      "outputs": []
    },
    {
      "cell_type": "code",
      "source": [
        "def gradient_descent(x_values, y_values, learning_rate=0.01, iterations=1000, initial_m=0, initial_c=0):\n",
        "    m = initial_m\n",
        "    c = initial_c\n",
        "    n = len(x_values)\n",
        "    for _ in range(iterations):\n",
        "        dm = 0\n",
        "        dc = 0\n",
        "        for x, y in zip(x_values, y_values):\n",
        "            dm += -2 * x * (y - predict(x, m, c))\n",
        "            dc += -2 * (y - predict(x, m, c))\n",
        "        m = m - learning_rate * (dm / n)\n",
        "        c = c - learning_rate * (dc / n)\n",
        "    return m, c"
      ],
      "metadata": {
        "id": "KBeIai2yna09"
      },
      "execution_count": 34,
      "outputs": []
    },
    {
      "cell_type": "code",
      "source": [
        "x_values = [1, 2, 3, 4, 5]\n",
        "y_values = [2, 4, 5, 4, 5]"
      ],
      "metadata": {
        "id": "FFWBlKUFnkYH"
      },
      "execution_count": 35,
      "outputs": []
    },
    {
      "cell_type": "code",
      "source": [
        "optimal_m, optimal_c = gradient_descent(x_values, y_values)\n",
        "print(\"Optimal value of M:\", optimal_m)\n",
        "print(\"Optimal value of C:\", optimal_c)"
      ],
      "metadata": {
        "colab": {
          "base_uri": "https://localhost:8080/"
        },
        "id": "6XsYX9UrnwBo",
        "outputId": "17db3948-25e5-476d-e8ae-0d72b9a698ff"
      },
      "execution_count": 36,
      "outputs": [
        {
          "output_type": "stream",
          "name": "stdout",
          "text": [
            "Optimal value of M: 0.6176946148762643\n",
            "Optimal value of C: 2.136116825825789\n"
          ]
        }
      ]
    }
  ]
}